{
  "nbformat": 4,
  "nbformat_minor": 0,
  "metadata": {
    "colab": {
      "provenance": []
    },
    "kernelspec": {
      "name": "python3",
      "display_name": "Python 3"
    },
    "language_info": {
      "name": "python"
    }
  },
  "cells": [
    {
      "cell_type": "markdown",
      "source": [
        "# ======= Import Libraries ======="
      ],
      "metadata": {
        "id": "VciQlvwlZVEo"
      }
    },
    {
      "cell_type": "code",
      "execution_count": 47,
      "metadata": {
        "id": "gwlnxl-cQy9w"
      },
      "outputs": [],
      "source": [
        "import pandas as pd\n",
        "import matplotlib.pyplot as plt\n",
        "import os"
      ]
    },
    {
      "cell_type": "markdown",
      "source": [
        "# ======= Load Datasets ======="
      ],
      "metadata": {
        "id": "m_v_3na2Zism"
      }
    },
    {
      "cell_type": "code",
      "source": [
        "from google.colab import files\n",
        "uploaded = files.upload()  # This will select files from your computer"
      ],
      "metadata": {
        "colab": {
          "base_uri": "https://localhost:8080/",
          "height": 108
        },
        "id": "1eSGHMRPX1Wx",
        "outputId": "226caa26-d87c-4d2f-adbf-657267fe788d"
      },
      "execution_count": 2,
      "outputs": [
        {
          "output_type": "display_data",
          "data": {
            "text/plain": [
              "<IPython.core.display.HTML object>"
            ],
            "text/html": [
              "\n",
              "     <input type=\"file\" id=\"files-586e7782-1932-44d2-a1c2-e0c12130369c\" name=\"files[]\" multiple disabled\n",
              "        style=\"border:none\" />\n",
              "     <output id=\"result-586e7782-1932-44d2-a1c2-e0c12130369c\">\n",
              "      Upload widget is only available when the cell has been executed in the\n",
              "      current browser session. Please rerun this cell to enable.\n",
              "      </output>\n",
              "      <script>// Copyright 2017 Google LLC\n",
              "//\n",
              "// Licensed under the Apache License, Version 2.0 (the \"License\");\n",
              "// you may not use this file except in compliance with the License.\n",
              "// You may obtain a copy of the License at\n",
              "//\n",
              "//      http://www.apache.org/licenses/LICENSE-2.0\n",
              "//\n",
              "// Unless required by applicable law or agreed to in writing, software\n",
              "// distributed under the License is distributed on an \"AS IS\" BASIS,\n",
              "// WITHOUT WARRANTIES OR CONDITIONS OF ANY KIND, either express or implied.\n",
              "// See the License for the specific language governing permissions and\n",
              "// limitations under the License.\n",
              "\n",
              "/**\n",
              " * @fileoverview Helpers for google.colab Python module.\n",
              " */\n",
              "(function(scope) {\n",
              "function span(text, styleAttributes = {}) {\n",
              "  const element = document.createElement('span');\n",
              "  element.textContent = text;\n",
              "  for (const key of Object.keys(styleAttributes)) {\n",
              "    element.style[key] = styleAttributes[key];\n",
              "  }\n",
              "  return element;\n",
              "}\n",
              "\n",
              "// Max number of bytes which will be uploaded at a time.\n",
              "const MAX_PAYLOAD_SIZE = 100 * 1024;\n",
              "\n",
              "function _uploadFiles(inputId, outputId) {\n",
              "  const steps = uploadFilesStep(inputId, outputId);\n",
              "  const outputElement = document.getElementById(outputId);\n",
              "  // Cache steps on the outputElement to make it available for the next call\n",
              "  // to uploadFilesContinue from Python.\n",
              "  outputElement.steps = steps;\n",
              "\n",
              "  return _uploadFilesContinue(outputId);\n",
              "}\n",
              "\n",
              "// This is roughly an async generator (not supported in the browser yet),\n",
              "// where there are multiple asynchronous steps and the Python side is going\n",
              "// to poll for completion of each step.\n",
              "// This uses a Promise to block the python side on completion of each step,\n",
              "// then passes the result of the previous step as the input to the next step.\n",
              "function _uploadFilesContinue(outputId) {\n",
              "  const outputElement = document.getElementById(outputId);\n",
              "  const steps = outputElement.steps;\n",
              "\n",
              "  const next = steps.next(outputElement.lastPromiseValue);\n",
              "  return Promise.resolve(next.value.promise).then((value) => {\n",
              "    // Cache the last promise value to make it available to the next\n",
              "    // step of the generator.\n",
              "    outputElement.lastPromiseValue = value;\n",
              "    return next.value.response;\n",
              "  });\n",
              "}\n",
              "\n",
              "/**\n",
              " * Generator function which is called between each async step of the upload\n",
              " * process.\n",
              " * @param {string} inputId Element ID of the input file picker element.\n",
              " * @param {string} outputId Element ID of the output display.\n",
              " * @return {!Iterable<!Object>} Iterable of next steps.\n",
              " */\n",
              "function* uploadFilesStep(inputId, outputId) {\n",
              "  const inputElement = document.getElementById(inputId);\n",
              "  inputElement.disabled = false;\n",
              "\n",
              "  const outputElement = document.getElementById(outputId);\n",
              "  outputElement.innerHTML = '';\n",
              "\n",
              "  const pickedPromise = new Promise((resolve) => {\n",
              "    inputElement.addEventListener('change', (e) => {\n",
              "      resolve(e.target.files);\n",
              "    });\n",
              "  });\n",
              "\n",
              "  const cancel = document.createElement('button');\n",
              "  inputElement.parentElement.appendChild(cancel);\n",
              "  cancel.textContent = 'Cancel upload';\n",
              "  const cancelPromise = new Promise((resolve) => {\n",
              "    cancel.onclick = () => {\n",
              "      resolve(null);\n",
              "    };\n",
              "  });\n",
              "\n",
              "  // Wait for the user to pick the files.\n",
              "  const files = yield {\n",
              "    promise: Promise.race([pickedPromise, cancelPromise]),\n",
              "    response: {\n",
              "      action: 'starting',\n",
              "    }\n",
              "  };\n",
              "\n",
              "  cancel.remove();\n",
              "\n",
              "  // Disable the input element since further picks are not allowed.\n",
              "  inputElement.disabled = true;\n",
              "\n",
              "  if (!files) {\n",
              "    return {\n",
              "      response: {\n",
              "        action: 'complete',\n",
              "      }\n",
              "    };\n",
              "  }\n",
              "\n",
              "  for (const file of files) {\n",
              "    const li = document.createElement('li');\n",
              "    li.append(span(file.name, {fontWeight: 'bold'}));\n",
              "    li.append(span(\n",
              "        `(${file.type || 'n/a'}) - ${file.size} bytes, ` +\n",
              "        `last modified: ${\n",
              "            file.lastModifiedDate ? file.lastModifiedDate.toLocaleDateString() :\n",
              "                                    'n/a'} - `));\n",
              "    const percent = span('0% done');\n",
              "    li.appendChild(percent);\n",
              "\n",
              "    outputElement.appendChild(li);\n",
              "\n",
              "    const fileDataPromise = new Promise((resolve) => {\n",
              "      const reader = new FileReader();\n",
              "      reader.onload = (e) => {\n",
              "        resolve(e.target.result);\n",
              "      };\n",
              "      reader.readAsArrayBuffer(file);\n",
              "    });\n",
              "    // Wait for the data to be ready.\n",
              "    let fileData = yield {\n",
              "      promise: fileDataPromise,\n",
              "      response: {\n",
              "        action: 'continue',\n",
              "      }\n",
              "    };\n",
              "\n",
              "    // Use a chunked sending to avoid message size limits. See b/62115660.\n",
              "    let position = 0;\n",
              "    do {\n",
              "      const length = Math.min(fileData.byteLength - position, MAX_PAYLOAD_SIZE);\n",
              "      const chunk = new Uint8Array(fileData, position, length);\n",
              "      position += length;\n",
              "\n",
              "      const base64 = btoa(String.fromCharCode.apply(null, chunk));\n",
              "      yield {\n",
              "        response: {\n",
              "          action: 'append',\n",
              "          file: file.name,\n",
              "          data: base64,\n",
              "        },\n",
              "      };\n",
              "\n",
              "      let percentDone = fileData.byteLength === 0 ?\n",
              "          100 :\n",
              "          Math.round((position / fileData.byteLength) * 100);\n",
              "      percent.textContent = `${percentDone}% done`;\n",
              "\n",
              "    } while (position < fileData.byteLength);\n",
              "  }\n",
              "\n",
              "  // All done.\n",
              "  yield {\n",
              "    response: {\n",
              "      action: 'complete',\n",
              "    }\n",
              "  };\n",
              "}\n",
              "\n",
              "scope.google = scope.google || {};\n",
              "scope.google.colab = scope.google.colab || {};\n",
              "scope.google.colab._files = {\n",
              "  _uploadFiles,\n",
              "  _uploadFilesContinue,\n",
              "};\n",
              "})(self);\n",
              "</script> "
            ]
          },
          "metadata": {}
        },
        {
          "output_type": "stream",
          "name": "stdout",
          "text": [
            "Saving historical_data.csv to historical_data.csv\n",
            "Saving fear_greed_index.csv to fear_greed_index.csv\n"
          ]
        }
      ]
    },
    {
      "cell_type": "code",
      "source": [
        "fear_greed_df = pd.read_csv('fear_greed_index.csv')\n",
        "historical_data_df = pd.read_csv('historical_data.csv')"
      ],
      "metadata": {
        "id": "WvP5gUN5cPG-"
      },
      "execution_count": 49,
      "outputs": []
    },
    {
      "cell_type": "markdown",
      "source": [
        "# ======= Data Exploration ======="
      ],
      "metadata": {
        "id": "IkPsFKbIcY1z"
      }
    },
    {
      "cell_type": "code",
      "source": [
        "# Show columns\n",
        "print(fear_greed_df.head())\n",
        "print(historical_data_df.head())"
      ],
      "metadata": {
        "colab": {
          "base_uri": "https://localhost:8080/"
        },
        "id": "3Wo97R0_fAI3",
        "outputId": "e26aa202-3a67-4569-88ee-5b530a226620"
      },
      "execution_count": 59,
      "outputs": [
        {
          "output_type": "stream",
          "name": "stdout",
          "text": [
            "    timestamp  value classification        date\n",
            "0  1517463000     30           Fear  01-02-2018\n",
            "1  1517549400     15   Extreme Fear  02-02-2018\n",
            "2  1517635800     40           Fear  03-02-2018\n",
            "3  1517722200     24   Extreme Fear  04-02-2018\n",
            "4  1517808600     11   Extreme Fear  05-02-2018\n",
            "                                      Account  Coin  Execution Price  \\\n",
            "0  0xae5eacaf9c6b9111fd53034a602c192a04e082ed  @107           7.9769   \n",
            "1  0xae5eacaf9c6b9111fd53034a602c192a04e082ed  @107           7.9800   \n",
            "2  0xae5eacaf9c6b9111fd53034a602c192a04e082ed  @107           7.9855   \n",
            "3  0xae5eacaf9c6b9111fd53034a602c192a04e082ed  @107           7.9874   \n",
            "4  0xae5eacaf9c6b9111fd53034a602c192a04e082ed  @107           7.9894   \n",
            "\n",
            "   Size Tokens  Size USD Side     Timestamp IST  Start Position Direction  \\\n",
            "0       986.87   7872.16  BUY  02-12-2024 22:50        0.000000       Buy   \n",
            "1        16.00    127.68  BUY  02-12-2024 22:50      986.524596       Buy   \n",
            "2       144.09   1150.63  BUY  02-12-2024 22:50     1002.518996       Buy   \n",
            "3       142.98   1142.04  BUY  02-12-2024 22:50     1146.558564       Buy   \n",
            "4         8.73     69.75  BUY  02-12-2024 22:50     1289.488521       Buy   \n",
            "\n",
            "   Closed PnL                                   Transaction Hash     Order ID  \\\n",
            "0         0.0  0xec09451986a1874e3a980418412fcd0201f500c95bac...  52017706630   \n",
            "1         0.0  0xec09451986a1874e3a980418412fcd0201f500c95bac...  52017706630   \n",
            "2         0.0  0xec09451986a1874e3a980418412fcd0201f500c95bac...  52017706630   \n",
            "3         0.0  0xec09451986a1874e3a980418412fcd0201f500c95bac...  52017706630   \n",
            "4         0.0  0xec09451986a1874e3a980418412fcd0201f500c95bac...  52017706630   \n",
            "\n",
            "   Crossed       Fee      Trade ID     Timestamp  \n",
            "0     True  0.345404  8.950000e+14  1.730000e+12  \n",
            "1     True  0.005600  4.430000e+14  1.730000e+12  \n",
            "2     True  0.050431  6.600000e+14  1.730000e+12  \n",
            "3     True  0.050043  1.080000e+15  1.730000e+12  \n",
            "4     True  0.003055  1.050000e+15  1.730000e+12  \n"
          ]
        }
      ]
    },
    {
      "cell_type": "code",
      "source": [
        "fear_greed_df.columns"
      ],
      "metadata": {
        "colab": {
          "base_uri": "https://localhost:8080/"
        },
        "id": "i4XwPuiigkY7",
        "outputId": "50e408ca-e658-4cbb-fff7-8dd19d075912"
      },
      "execution_count": 60,
      "outputs": [
        {
          "output_type": "execute_result",
          "data": {
            "text/plain": [
              "Index(['timestamp', 'value', 'classification', 'date'], dtype='object')"
            ]
          },
          "metadata": {},
          "execution_count": 60
        }
      ]
    },
    {
      "cell_type": "code",
      "source": [
        "# Convert date columns to datetime\n",
        "fear_greed_df['date'] = pd.to_datetime(fear_greed_df['date'], dayfirst=True)\n",
        "fear_greed_df.info()"
      ],
      "metadata": {
        "colab": {
          "base_uri": "https://localhost:8080/"
        },
        "id": "WoAdXsBRfLEs",
        "outputId": "7c5eb5a3-728e-4c6c-ebcc-9eeb5ad0e087"
      },
      "execution_count": 61,
      "outputs": [
        {
          "output_type": "stream",
          "name": "stdout",
          "text": [
            "<class 'pandas.core.frame.DataFrame'>\n",
            "RangeIndex: 2644 entries, 0 to 2643\n",
            "Data columns (total 4 columns):\n",
            " #   Column          Non-Null Count  Dtype         \n",
            "---  ------          --------------  -----         \n",
            " 0   timestamp       2644 non-null   int64         \n",
            " 1   value           2644 non-null   int64         \n",
            " 2   classification  2644 non-null   object        \n",
            " 3   date            2644 non-null   datetime64[ns]\n",
            "dtypes: datetime64[ns](1), int64(2), object(1)\n",
            "memory usage: 82.8+ KB\n"
          ]
        }
      ]
    },
    {
      "cell_type": "code",
      "source": [
        "fear_greed_df.isnull().sum()"
      ],
      "metadata": {
        "colab": {
          "base_uri": "https://localhost:8080/",
          "height": 209
        },
        "id": "mAVIAfAIg31i",
        "outputId": "147245b8-433e-4273-d5a5-88002ed7c6f3"
      },
      "execution_count": 63,
      "outputs": [
        {
          "output_type": "execute_result",
          "data": {
            "text/plain": [
              "timestamp         0\n",
              "value             0\n",
              "classification    0\n",
              "date              0\n",
              "dtype: int64"
            ],
            "text/html": [
              "<div>\n",
              "<style scoped>\n",
              "    .dataframe tbody tr th:only-of-type {\n",
              "        vertical-align: middle;\n",
              "    }\n",
              "\n",
              "    .dataframe tbody tr th {\n",
              "        vertical-align: top;\n",
              "    }\n",
              "\n",
              "    .dataframe thead th {\n",
              "        text-align: right;\n",
              "    }\n",
              "</style>\n",
              "<table border=\"1\" class=\"dataframe\">\n",
              "  <thead>\n",
              "    <tr style=\"text-align: right;\">\n",
              "      <th></th>\n",
              "      <th>0</th>\n",
              "    </tr>\n",
              "  </thead>\n",
              "  <tbody>\n",
              "    <tr>\n",
              "      <th>timestamp</th>\n",
              "      <td>0</td>\n",
              "    </tr>\n",
              "    <tr>\n",
              "      <th>value</th>\n",
              "      <td>0</td>\n",
              "    </tr>\n",
              "    <tr>\n",
              "      <th>classification</th>\n",
              "      <td>0</td>\n",
              "    </tr>\n",
              "    <tr>\n",
              "      <th>date</th>\n",
              "      <td>0</td>\n",
              "    </tr>\n",
              "  </tbody>\n",
              "</table>\n",
              "</div><br><label><b>dtype:</b> int64</label>"
            ]
          },
          "metadata": {},
          "execution_count": 63
        }
      ]
    },
    {
      "cell_type": "code",
      "source": [
        "fear_greed_df['classification'].value_counts()"
      ],
      "metadata": {
        "colab": {
          "base_uri": "https://localhost:8080/",
          "height": 272
        },
        "id": "MtHvstThg7cp",
        "outputId": "59e55114-8de7-4d54-be93-ad891276f57b"
      },
      "execution_count": 64,
      "outputs": [
        {
          "output_type": "execute_result",
          "data": {
            "text/plain": [
              "classification\n",
              "Fear             781\n",
              "Greed            633\n",
              "Extreme Fear     508\n",
              "Neutral          396\n",
              "Extreme Greed    326\n",
              "Name: count, dtype: int64"
            ],
            "text/html": [
              "<div>\n",
              "<style scoped>\n",
              "    .dataframe tbody tr th:only-of-type {\n",
              "        vertical-align: middle;\n",
              "    }\n",
              "\n",
              "    .dataframe tbody tr th {\n",
              "        vertical-align: top;\n",
              "    }\n",
              "\n",
              "    .dataframe thead th {\n",
              "        text-align: right;\n",
              "    }\n",
              "</style>\n",
              "<table border=\"1\" class=\"dataframe\">\n",
              "  <thead>\n",
              "    <tr style=\"text-align: right;\">\n",
              "      <th></th>\n",
              "      <th>count</th>\n",
              "    </tr>\n",
              "    <tr>\n",
              "      <th>classification</th>\n",
              "      <th></th>\n",
              "    </tr>\n",
              "  </thead>\n",
              "  <tbody>\n",
              "    <tr>\n",
              "      <th>Fear</th>\n",
              "      <td>781</td>\n",
              "    </tr>\n",
              "    <tr>\n",
              "      <th>Greed</th>\n",
              "      <td>633</td>\n",
              "    </tr>\n",
              "    <tr>\n",
              "      <th>Extreme Fear</th>\n",
              "      <td>508</td>\n",
              "    </tr>\n",
              "    <tr>\n",
              "      <th>Neutral</th>\n",
              "      <td>396</td>\n",
              "    </tr>\n",
              "    <tr>\n",
              "      <th>Extreme Greed</th>\n",
              "      <td>326</td>\n",
              "    </tr>\n",
              "  </tbody>\n",
              "</table>\n",
              "</div><br><label><b>dtype:</b> int64</label>"
            ]
          },
          "metadata": {},
          "execution_count": 64
        }
      ]
    },
    {
      "cell_type": "code",
      "source": [
        "historical_data_df.columns"
      ],
      "metadata": {
        "colab": {
          "base_uri": "https://localhost:8080/"
        },
        "id": "P2E-gDk-hAp3",
        "outputId": "46d9d62a-39e1-42d2-8efd-ca1a330a2022"
      },
      "execution_count": 65,
      "outputs": [
        {
          "output_type": "execute_result",
          "data": {
            "text/plain": [
              "Index(['Account', 'Coin', 'Execution Price', 'Size Tokens', 'Size USD', 'Side',\n",
              "       'Timestamp IST', 'Start Position', 'Direction', 'Closed PnL',\n",
              "       'Transaction Hash', 'Order ID', 'Crossed', 'Fee', 'Trade ID',\n",
              "       'Timestamp'],\n",
              "      dtype='object')"
            ]
          },
          "metadata": {},
          "execution_count": 65
        }
      ]
    },
    {
      "cell_type": "code",
      "source": [
        "historical_data_df['Timestamp IST'] = pd.to_datetime(historical_data_df['Timestamp IST'], dayfirst=True)\n",
        "historical_data_df.info()"
      ],
      "metadata": {
        "colab": {
          "base_uri": "https://localhost:8080/"
        },
        "id": "eYIaKK3whmur",
        "outputId": "737bf47e-4c95-4f53-db61-f9b056e56682"
      },
      "execution_count": 66,
      "outputs": [
        {
          "output_type": "stream",
          "name": "stdout",
          "text": [
            "<class 'pandas.core.frame.DataFrame'>\n",
            "RangeIndex: 211224 entries, 0 to 211223\n",
            "Data columns (total 16 columns):\n",
            " #   Column            Non-Null Count   Dtype         \n",
            "---  ------            --------------   -----         \n",
            " 0   Account           211224 non-null  object        \n",
            " 1   Coin              211224 non-null  object        \n",
            " 2   Execution Price   211224 non-null  float64       \n",
            " 3   Size Tokens       211224 non-null  float64       \n",
            " 4   Size USD          211224 non-null  float64       \n",
            " 5   Side              211224 non-null  object        \n",
            " 6   Timestamp IST     211224 non-null  datetime64[ns]\n",
            " 7   Start Position    211224 non-null  float64       \n",
            " 8   Direction         211224 non-null  object        \n",
            " 9   Closed PnL        211224 non-null  float64       \n",
            " 10  Transaction Hash  211224 non-null  object        \n",
            " 11  Order ID          211224 non-null  int64         \n",
            " 12  Crossed           211224 non-null  bool          \n",
            " 13  Fee               211224 non-null  float64       \n",
            " 14  Trade ID          211224 non-null  float64       \n",
            " 15  Timestamp         211224 non-null  float64       \n",
            "dtypes: bool(1), datetime64[ns](1), float64(8), int64(1), object(5)\n",
            "memory usage: 24.4+ MB\n"
          ]
        }
      ]
    },
    {
      "cell_type": "code",
      "source": [
        "historical_data_df.isnull().sum()"
      ],
      "metadata": {
        "colab": {
          "base_uri": "https://localhost:8080/",
          "height": 586
        },
        "id": "GYpm2cZ6hspg",
        "outputId": "7d853471-89f2-4b60-ac80-9801bc55007d"
      },
      "execution_count": 67,
      "outputs": [
        {
          "output_type": "execute_result",
          "data": {
            "text/plain": [
              "Account             0\n",
              "Coin                0\n",
              "Execution Price     0\n",
              "Size Tokens         0\n",
              "Size USD            0\n",
              "Side                0\n",
              "Timestamp IST       0\n",
              "Start Position      0\n",
              "Direction           0\n",
              "Closed PnL          0\n",
              "Transaction Hash    0\n",
              "Order ID            0\n",
              "Crossed             0\n",
              "Fee                 0\n",
              "Trade ID            0\n",
              "Timestamp           0\n",
              "dtype: int64"
            ],
            "text/html": [
              "<div>\n",
              "<style scoped>\n",
              "    .dataframe tbody tr th:only-of-type {\n",
              "        vertical-align: middle;\n",
              "    }\n",
              "\n",
              "    .dataframe tbody tr th {\n",
              "        vertical-align: top;\n",
              "    }\n",
              "\n",
              "    .dataframe thead th {\n",
              "        text-align: right;\n",
              "    }\n",
              "</style>\n",
              "<table border=\"1\" class=\"dataframe\">\n",
              "  <thead>\n",
              "    <tr style=\"text-align: right;\">\n",
              "      <th></th>\n",
              "      <th>0</th>\n",
              "    </tr>\n",
              "  </thead>\n",
              "  <tbody>\n",
              "    <tr>\n",
              "      <th>Account</th>\n",
              "      <td>0</td>\n",
              "    </tr>\n",
              "    <tr>\n",
              "      <th>Coin</th>\n",
              "      <td>0</td>\n",
              "    </tr>\n",
              "    <tr>\n",
              "      <th>Execution Price</th>\n",
              "      <td>0</td>\n",
              "    </tr>\n",
              "    <tr>\n",
              "      <th>Size Tokens</th>\n",
              "      <td>0</td>\n",
              "    </tr>\n",
              "    <tr>\n",
              "      <th>Size USD</th>\n",
              "      <td>0</td>\n",
              "    </tr>\n",
              "    <tr>\n",
              "      <th>Side</th>\n",
              "      <td>0</td>\n",
              "    </tr>\n",
              "    <tr>\n",
              "      <th>Timestamp IST</th>\n",
              "      <td>0</td>\n",
              "    </tr>\n",
              "    <tr>\n",
              "      <th>Start Position</th>\n",
              "      <td>0</td>\n",
              "    </tr>\n",
              "    <tr>\n",
              "      <th>Direction</th>\n",
              "      <td>0</td>\n",
              "    </tr>\n",
              "    <tr>\n",
              "      <th>Closed PnL</th>\n",
              "      <td>0</td>\n",
              "    </tr>\n",
              "    <tr>\n",
              "      <th>Transaction Hash</th>\n",
              "      <td>0</td>\n",
              "    </tr>\n",
              "    <tr>\n",
              "      <th>Order ID</th>\n",
              "      <td>0</td>\n",
              "    </tr>\n",
              "    <tr>\n",
              "      <th>Crossed</th>\n",
              "      <td>0</td>\n",
              "    </tr>\n",
              "    <tr>\n",
              "      <th>Fee</th>\n",
              "      <td>0</td>\n",
              "    </tr>\n",
              "    <tr>\n",
              "      <th>Trade ID</th>\n",
              "      <td>0</td>\n",
              "    </tr>\n",
              "    <tr>\n",
              "      <th>Timestamp</th>\n",
              "      <td>0</td>\n",
              "    </tr>\n",
              "  </tbody>\n",
              "</table>\n",
              "</div><br><label><b>dtype:</b> int64</label>"
            ]
          },
          "metadata": {},
          "execution_count": 67
        }
      ]
    },
    {
      "cell_type": "code",
      "source": [
        "# Check for missing data in both datasets\n",
        "print(\"Missing values in Fear/Greed Dataset:\")\n",
        "print(fear_greed_df.isnull().sum())\n",
        "print(\"\\nMissing values in Historical Trader Dataset:\")\n",
        "print(historical_data_df.isnull().sum())\n",
        "\n",
        "# Summary statistics for numeric columns\n",
        "print(\"\\nFear/Greed Dataset Summary:\")\n",
        "print(fear_greed_df.describe())\n",
        "\n",
        "print(\"\\nHistorical Trader Dataset Summary (Closed PnL and Size USD):\")\n",
        "print(historical_data_df[['Closed PnL', 'Size USD']].describe())\n",
        "\n",
        "# Unique counts for categorical columns\n",
        "print(\"\\nSentiment Classification Counts:\")\n",
        "print(fear_greed_df['classification'].value_counts())\n",
        "\n",
        "print(\"\\nTrade Side Counts:\")\n",
        "print(historical_data_df['Side'].value_counts())"
      ],
      "metadata": {
        "colab": {
          "base_uri": "https://localhost:8080/"
        },
        "id": "2jgecs7eyC-C",
        "outputId": "13e9c92a-5328-4e51-95a9-4d7000e0375a"
      },
      "execution_count": 72,
      "outputs": [
        {
          "output_type": "stream",
          "name": "stdout",
          "text": [
            "Missing values in Fear/Greed Dataset:\n",
            "timestamp         0\n",
            "value             0\n",
            "classification    0\n",
            "date              0\n",
            "dtype: int64\n",
            "\n",
            "Missing values in Historical Trader Dataset:\n",
            "Account             0\n",
            "Coin                0\n",
            "Execution Price     0\n",
            "Size Tokens         0\n",
            "Size USD            0\n",
            "Side                0\n",
            "Timestamp IST       0\n",
            "Start Position      0\n",
            "Direction           0\n",
            "Closed PnL          0\n",
            "Transaction Hash    0\n",
            "Order ID            0\n",
            "Crossed             0\n",
            "Fee                 0\n",
            "Trade ID            0\n",
            "Timestamp           0\n",
            "date                0\n",
            "dtype: int64\n",
            "\n",
            "Fear/Greed Dataset Summary:\n",
            "          timestamp        value\n",
            "count  2.644000e+03  2644.000000\n",
            "mean   1.631899e+09    46.981089\n",
            "std    6.597967e+07    21.827680\n",
            "min    1.517463e+09     5.000000\n",
            "25%    1.574811e+09    28.000000\n",
            "50%    1.631900e+09    46.000000\n",
            "75%    1.688989e+09    66.000000\n",
            "max    1.746164e+09    95.000000\n",
            "\n",
            "Historical Trader Dataset Summary (Closed PnL and Size USD):\n",
            "          Closed PnL      Size USD\n",
            "count  211224.000000  2.112240e+05\n",
            "mean       48.749001  5.639451e+03\n",
            "std       919.164828  3.657514e+04\n",
            "min   -117990.104100  0.000000e+00\n",
            "25%         0.000000  1.937900e+02\n",
            "50%         0.000000  5.970450e+02\n",
            "75%         5.792797  2.058960e+03\n",
            "max    135329.090100  3.921431e+06\n",
            "\n",
            "Sentiment Classification Counts:\n",
            "classification\n",
            "Fear             781\n",
            "Greed            633\n",
            "Extreme Fear     508\n",
            "Neutral          396\n",
            "Extreme Greed    326\n",
            "Name: count, dtype: int64\n",
            "\n",
            "Trade Side Counts:\n",
            "Side\n",
            "SELL    108528\n",
            "BUY     102696\n",
            "Name: count, dtype: int64\n"
          ]
        }
      ]
    },
    {
      "cell_type": "code",
      "source": [
        "# Extract date from timestamp for merging\n",
        "historical_data_df['date'] = historical_data_df['Timestamp IST'].dt.date"
      ],
      "metadata": {
        "id": "m1Ti-xduhIfY"
      },
      "execution_count": 82,
      "outputs": []
    },
    {
      "cell_type": "code",
      "source": [
        "# Convert to datetime first, coerce errors to NaT\n",
        "fear_greed_df['date'] = pd.to_datetime(fear_greed_df['date'], errors='coerce')\n",
        "\n",
        "# Now convert to date (without time)\n",
        "fear_greed_df['date'] = fear_greed_df['date'].dt.date\n",
        "\n",
        "# Merge datasets on 'date'\n",
        "merged_df = historical_data_df.merge(fear_greed_df[['date', 'classification']], on='date', how='left')\n",
        "\n",
        "print(merged_df.head())\n"
      ],
      "metadata": {
        "colab": {
          "base_uri": "https://localhost:8080/"
        },
        "id": "QohZ7U6thKAX",
        "outputId": "4f6a9ef4-67e5-4abe-f90a-94fc31d37abe"
      },
      "execution_count": 83,
      "outputs": [
        {
          "output_type": "stream",
          "name": "stdout",
          "text": [
            "                                      Account  Coin  Execution Price  \\\n",
            "0  0xae5eacaf9c6b9111fd53034a602c192a04e082ed  @107           7.9769   \n",
            "1  0xae5eacaf9c6b9111fd53034a602c192a04e082ed  @107           7.9800   \n",
            "2  0xae5eacaf9c6b9111fd53034a602c192a04e082ed  @107           7.9855   \n",
            "3  0xae5eacaf9c6b9111fd53034a602c192a04e082ed  @107           7.9874   \n",
            "4  0xae5eacaf9c6b9111fd53034a602c192a04e082ed  @107           7.9894   \n",
            "\n",
            "   Size Tokens  Size USD Side       Timestamp IST  Start Position Direction  \\\n",
            "0       986.87   7872.16  BUY 2024-12-02 22:50:00        0.000000       Buy   \n",
            "1        16.00    127.68  BUY 2024-12-02 22:50:00      986.524596       Buy   \n",
            "2       144.09   1150.63  BUY 2024-12-02 22:50:00     1002.518996       Buy   \n",
            "3       142.98   1142.04  BUY 2024-12-02 22:50:00     1146.558564       Buy   \n",
            "4         8.73     69.75  BUY 2024-12-02 22:50:00     1289.488521       Buy   \n",
            "\n",
            "   Closed PnL                                   Transaction Hash     Order ID  \\\n",
            "0         0.0  0xec09451986a1874e3a980418412fcd0201f500c95bac...  52017706630   \n",
            "1         0.0  0xec09451986a1874e3a980418412fcd0201f500c95bac...  52017706630   \n",
            "2         0.0  0xec09451986a1874e3a980418412fcd0201f500c95bac...  52017706630   \n",
            "3         0.0  0xec09451986a1874e3a980418412fcd0201f500c95bac...  52017706630   \n",
            "4         0.0  0xec09451986a1874e3a980418412fcd0201f500c95bac...  52017706630   \n",
            "\n",
            "   Crossed       Fee      Trade ID     Timestamp        date classification  \n",
            "0     True  0.345404  8.950000e+14  1.730000e+12  2024-12-02  Extreme Greed  \n",
            "1     True  0.005600  4.430000e+14  1.730000e+12  2024-12-02  Extreme Greed  \n",
            "2     True  0.050431  6.600000e+14  1.730000e+12  2024-12-02  Extreme Greed  \n",
            "3     True  0.050043  1.080000e+15  1.730000e+12  2024-12-02  Extreme Greed  \n",
            "4     True  0.003055  1.050000e+15  1.730000e+12  2024-12-02  Extreme Greed  \n"
          ]
        }
      ]
    },
    {
      "cell_type": "markdown",
      "source": [
        "# ======= Analysis ======="
      ],
      "metadata": {
        "id": "B1g_JI6idIJF"
      }
    },
    {
      "cell_type": "code",
      "source": [
        "# Average Closed PnL by sentiment class\n",
        "avg_pnl = merged_df.groupby('classification')['Closed PnL'].mean().reset_index()\n",
        "\n",
        "# Average trade size by sentiment class\n",
        "avg_trade_size = merged_df.groupby('classification')['Size USD'].mean().reset_index()\n",
        "\n",
        "print(\"Average Closed PnL by Market Sentiment:\")\n",
        "print(avg_pnl)\n",
        "\n",
        "print(\"\\nAverage Trade Size by Market Sentiment:\")\n",
        "print(avg_trade_size)"
      ],
      "metadata": {
        "colab": {
          "base_uri": "https://localhost:8080/"
        },
        "id": "7sMEJer7z4MI",
        "outputId": "aa65b4b1-8a36-4efc-c3be-604f8ffcd4f9"
      },
      "execution_count": 84,
      "outputs": [
        {
          "output_type": "stream",
          "name": "stdout",
          "text": [
            "Average Closed PnL by Market Sentiment:\n",
            "  classification  Closed PnL\n",
            "0   Extreme Fear   34.537862\n",
            "1  Extreme Greed   67.892861\n",
            "2           Fear   54.290400\n",
            "3          Greed   42.743559\n",
            "4        Neutral   34.307718\n",
            "\n",
            "Average Trade Size by Market Sentiment:\n",
            "  classification     Size USD\n",
            "0   Extreme Fear  5349.731843\n",
            "1  Extreme Greed  3112.251565\n",
            "2           Fear  7816.109931\n",
            "3          Greed  5736.884375\n",
            "4        Neutral  4782.732661\n"
          ]
        }
      ]
    },
    {
      "cell_type": "code",
      "source": [
        "# Calculate win rate (profitable trade proportion)\n",
        "merged_df['is_profit'] = merged_df['Closed PnL'] > 0\n",
        "win_rate = merged_df.groupby('classification')['is_profit'].mean().reset_index()\n",
        "win_rate.rename(columns={'is_profit': 'win_rate'}, inplace=True)\n",
        "print(win_rate)"
      ],
      "metadata": {
        "id": "GWO5_RPg0vgj",
        "colab": {
          "base_uri": "https://localhost:8080/"
        },
        "outputId": "efbe3934-95df-4d2b-cc2a-a27f5ead7e62"
      },
      "execution_count": 50,
      "outputs": [
        {
          "output_type": "stream",
          "name": "stdout",
          "text": [
            "  classification  win_rate\n",
            "0   Extreme Fear  0.370607\n",
            "1  Extreme Greed  0.464943\n",
            "2           Fear  0.420768\n",
            "3          Greed  0.384828\n",
            "4        Neutral  0.396991\n"
          ]
        }
      ]
    },
    {
      "cell_type": "code",
      "source": [
        "# Average fee by market sentiment\n",
        "avg_fee = merged_df.groupby('classification')['Fee'].mean().reset_index()\n",
        "\n",
        "print(avg_fee)"
      ],
      "metadata": {
        "colab": {
          "base_uri": "https://localhost:8080/"
        },
        "id": "x5wcbfK1MMyt",
        "outputId": "eed9564b-630d-4d0d-d98c-ad4c1b0f2dd4"
      },
      "execution_count": 34,
      "outputs": [
        {
          "output_type": "stream",
          "name": "stdout",
          "text": [
            "  classification       Fee\n",
            "0   Extreme Fear  1.116291\n",
            "1  Extreme Greed  0.675902\n",
            "2           Fear  1.495172\n",
            "3          Greed  1.254372\n",
            "4        Neutral  1.044798\n"
          ]
        }
      ]
    },
    {
      "cell_type": "code",
      "source": [
        "import os\n",
        "os.makedirs('outputs', exist_ok=True)"
      ],
      "metadata": {
        "id": "b2QhMmlWVzYs"
      },
      "execution_count": 43,
      "outputs": []
    },
    {
      "cell_type": "markdown",
      "source": [
        "# ======= Visualization ======="
      ],
      "metadata": {
        "id": "0CeqEExUaITh"
      }
    },
    {
      "cell_type": "code",
      "source": [
        "# Plot win rate by sentiment\n",
        "plt.figure(figsize=(10,5))\n",
        "plt.bar(win_rate['classification'], win_rate['win_rate'], color='green')\n",
        "plt.title('Win Rate by Market Sentiment')\n",
        "plt.xlabel('Market Sentiment')\n",
        "plt.ylabel('Win Rate (Proportion of Profitable Trades)')\n",
        "plt.xticks(rotation=45)\n",
        "\n",
        "# Save the plot image in the outputs folder\n",
        "plt.savefig('outputs/win_rate_by_sentiment.png')\n",
        "\n",
        "plt.show()"
      ],
      "metadata": {
        "colab": {
          "base_uri": "https://localhost:8080/",
          "height": 557
        },
        "id": "KVH4GX2oMPZc",
        "outputId": "a6304e40-7a49-4256-f2a2-5886c7fcec50"
      },
      "execution_count": 46,
      "outputs": [
        {
          "output_type": "display_data",
          "data": {
            "text/plain": [
              "<Figure size 1000x500 with 1 Axes>"
            ],
            "image/png": "[encoded data removed]"
          },
          "metadata": {}
        }
      ]
    },
    {
      "cell_type": "code",
      "source": [
        "plt.figure(figsize=(10,5))\n",
        "plt.bar(avg_fee['classification'], avg_fee['Fee'], color='purple')\n",
        "plt.title('Average Trading Fee by Market Sentiment')\n",
        "plt.xlabel('Market Sentiment')\n",
        "plt.ylabel('Average Fee')\n",
        "plt.xticks(rotation=45)\n",
        "\n",
        "# Save the plot image to outputs folder\n",
        "plt.savefig('outputs/avg_fee_by_sentiment.png')\n",
        "plt.show()"
      ],
      "metadata": {
        "colab": {
          "base_uri": "https://localhost:8080/",
          "height": 557
        },
        "id": "CU49D8rtU9uX",
        "outputId": "d81b0662-3a97-4582-bdef-18cc84b5f31b"
      },
      "execution_count": 45,
      "outputs": [
        {
          "output_type": "display_data",
          "data": {
            "text/plain": [
              "<Figure size 1000x500 with 1 Axes>"
            ],
            "image/png": "[encoded data removed]"
          },
          "metadata": {}
        }
      ]
    },
    {
      "cell_type": "markdown",
      "source": [
        "**Average Trading Fee by Market Sentiment**\n",
        "The average trading fee is highest during 'Fear' sentiment and lowest during 'Extreme Greed.' This suggests that traders might be taking more frequent or larger actions during periods of high market anxiety, which could lead to greater overall fee expenditures."
      ],
      "metadata": {
        "id": "G-WysdnONyzg"
      }
    },
    {
      "cell_type": "markdown",
      "source": [
        "**Win Rate by Market Sentiment**\n",
        "Win rate is highest during 'Extreme Greed,' indicating trades are more likely to be profitable when market confidence is very strong. In contrast, win rates are lowest during 'Extreme Fear,' suggesting traders find it harder to succeed when the market is highly pessimistic."
      ],
      "metadata": {
        "id": "fnLqJbtNN5ZE"
      }
    }
  ]
}